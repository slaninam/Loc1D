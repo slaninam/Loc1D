{
  "nbformat": 4,
  "nbformat_minor": 0,
  "metadata": {
    "kernelspec": {
      "display_name": "Python 3",
      "language": "python",
      "name": "python3"
    },
    "language_info": {
      "codemirror_mode": {
        "name": "ipython",
        "version": 3
      },
      "file_extension": ".py",
      "mimetype": "text/x-python",
      "name": "python",
      "nbconvert_exporter": "python",
      "pygments_lexer": "ipython3",
      "version": "3.7.3"
    },
    "colab": {
      "name": "data_exploration.ipynb",
      "provenance": []
    }
  },
  "cells": [
    {
      "cell_type": "markdown",
      "metadata": {
        "id": "wnEnBclAgSXj",
        "colab_type": "text"
      },
      "source": [
        "# Environment setup and data import"
      ]
    },
    {
      "cell_type": "markdown",
      "metadata": {
        "id": "wheBrhFcw0HU",
        "colab_type": "text"
      },
      "source": [
        "## Environment setup\n",
        "\n",
        "This is a view on the github-stored notebook. clone it first and navigate to a subfolder in orde to access the data files"
      ]
    },
    {
      "cell_type": "code",
      "metadata": {
        "id": "ygRQaDrNgR5M",
        "colab_type": "code",
        "outputId": "3717b5fd-a000-4aee-d047-614702160152",
        "colab": {
          "base_uri": "https://localhost:8080/",
          "height": 46
        }
      },
      "source": [
        "! git clone https://github.com/slaninam/Loc1D.git"
      ],
      "execution_count": 1,
      "outputs": [
        {
          "output_type": "stream",
          "text": [
            "fatal: destination path 'Loc1D' already exists and is not an empty directory.\n"
          ],
          "name": "stdout"
        }
      ]
    },
    {
      "cell_type": "code",
      "metadata": {
        "id": "8BLNLNWmwHAG",
        "colab_type": "code",
        "colab": {
          "base_uri": "https://localhost:8080/",
          "height": 34
        },
        "outputId": "34e132a8-0511-4510-b993-05a20fa09d3d"
      },
      "source": [
        "cd Loc1D"
      ],
      "execution_count": 3,
      "outputs": [
        {
          "output_type": "stream",
          "text": [
            "/content/Loc1D\n"
          ],
          "name": "stdout"
        }
      ]
    },
    {
      "cell_type": "code",
      "metadata": {
        "id": "Qr0ma13Aw-pL",
        "colab_type": "code",
        "colab": {}
      },
      "source": [
        ""
      ],
      "execution_count": 0,
      "outputs": []
    },
    {
      "cell_type": "markdown",
      "metadata": {
        "id": "tbhKYd7HffcY",
        "colab_type": "text"
      },
      "source": [
        "## Data preprocessing\n",
        "\n",
        "All input files are read into a single pandas DataFrame.\n",
        "The naming convention is maintained, one additional column 'dist' is added to record the actual distance at which the measurement was taken.\n",
        "\n",
        "The complete preprocessed data is available in the DataFrame **df**\n"
      ]
    },
    {
      "cell_type": "code",
      "metadata": {
        "id": "RjtWnn-vffcc",
        "colab_type": "code",
        "colab": {}
      },
      "source": [
        "import pandas as pd\n",
        "import numpy as np\n",
        "\n",
        "dists = np.arange(0, 35.5, 0.5)\n",
        "dfs = []\n",
        "for dist in dists:\n",
        "    if dist.is_integer():\n",
        "        fname = 'data/dist.' + '{0:.0f}'.format(dist) + 'm.txt'\n",
        "    else:\n",
        "        fname = 'data/dist.' + '{0:.1f}'.format(dist) + 'm.txt'\n",
        "    \n",
        "    df = pd.read_csv(fname, header = None, names=['time','tag id','anchor id','anchor1 id', 'anchor2 id', 'anchor3 id','a0ch0','a0ch1','a0ch2','a0ch3','a0rssi0','a0rssi1','a0rssi2','a0rssi3','a1ch0','a1ch1','a1ch2','a1ch3','a1rssi0','a1rssi1','a1rssi2','a1rssi3','a2ch0','a2ch1','a2ch2','a2ch3','a2rssi0','a2rssi1','a2rssi2','a2rssi3','a3ch0','a3ch1','a3ch2','a3ch3','a3rssi0','a3rssi1','a3rssi2','a3rssi3'])\n",
        "    df['dist'] = dist\n",
        "    dfs.append(df)\n",
        "\n",
        "df = pd.concat(dfs)"
      ],
      "execution_count": 0,
      "outputs": []
    },
    {
      "cell_type": "markdown",
      "metadata": {
        "id": "VsmvQwq8ffci",
        "colab_type": "text"
      },
      "source": [
        "## Train and test set creation\n",
        "The data is randomly divided in the train and test sets and the target values are put in separate vectors. \n",
        "\n",
        "Potentially leaky variables removed:\n",
        "* 'time'\n",
        "\n",
        "Othev variables removed as they contain no value:\n",
        "* 'tag id'\n",
        "* 'anchor id'\n",
        "* 'anchor1 id'\n",
        "* 'anchor2 id'\n",
        "* 'anchor3 id'"
      ]
    },
    {
      "cell_type": "code",
      "metadata": {
        "id": "E-ZACYH_ffcl",
        "colab_type": "code",
        "colab": {}
      },
      "source": [
        "from sklearn.model_selection import train_test_split\n",
        "\n",
        "df = df.drop(axis=1,labels = ['time'])\n",
        "df = df.drop(axis=1,labels = ['tag id','anchor id','anchor1 id','anchor2 id','anchor3 id'])\n",
        "\n",
        "X_train, X_test, y_train, y_test = train_test_split(df.drop(axis=1,labels = ['dist']), df['dist'], test_size=0.3, random_state=0)\n"
      ],
      "execution_count": 0,
      "outputs": []
    },
    {
      "cell_type": "markdown",
      "metadata": {
        "id": "_Nzy4MXbffcs",
        "colab_type": "text"
      },
      "source": [
        "# Models\n"
      ]
    },
    {
      "cell_type": "markdown",
      "metadata": {
        "id": "1Zw89eKvxGWW",
        "colab_type": "text"
      },
      "source": [
        "\n",
        "## ANN\n",
        "* Multi-Layer Perceptron\n",
        "* Totally random structure (first guess)\n",
        "* Output F2-score 0.91 (=not bad)"
      ]
    },
    {
      "cell_type": "code",
      "metadata": {
        "id": "Bkb8CN5Tffct",
        "colab_type": "code",
        "outputId": "9cc8b825-337f-48d9-f3a4-341b9f94611a",
        "colab": {
          "base_uri": "https://localhost:8080/",
          "height": 34
        }
      },
      "source": [
        "from sklearn.neural_network import MLPRegressor\n",
        "\n",
        "clf = MLPRegressor(solver='lbfgs', alpha=1e-5, hidden_layer_sizes=(40, 30), random_state=0)\n",
        "\n",
        "clf.fit(X_train, y_train)\n",
        "clf.score(X_test, y_test)"
      ],
      "execution_count": 6,
      "outputs": [
        {
          "output_type": "execute_result",
          "data": {
            "text/plain": [
              "0.9531834869657286"
            ]
          },
          "metadata": {
            "tags": []
          },
          "execution_count": 6
        }
      ]
    },
    {
      "cell_type": "markdown",
      "metadata": {
        "id": "qU6BPMNkffc3",
        "colab_type": "text"
      },
      "source": [
        "## Classifier performance metrics"
      ]
    },
    {
      "cell_type": "markdown",
      "metadata": {
        "id": "nt9n-rpCffcy",
        "colab_type": "text"
      },
      "source": [
        "Plotting the predicted distances vs real distances:"
      ]
    },
    {
      "cell_type": "code",
      "metadata": {
        "id": "YWt1PRQxffc0",
        "colab_type": "code",
        "outputId": "c4d9f325-df6d-4c44-91ab-4e556870d5e1",
        "colab": {
          "base_uri": "https://localhost:8080/",
          "height": 283
        }
      },
      "source": [
        "%matplotlib inline\n",
        "\n",
        "import matplotlib.pyplot as plt\n",
        "\n",
        "x = y_test\n",
        "y = clf.predict(X_test)\n",
        "\n",
        "plt.scatter(x,y,marker='x')\n",
        "plt.xlabel('Real distance [m]')\n",
        "plt.ylabel('Predicted distance [m]')\n",
        "plt.show()"
      ],
      "execution_count": 8,
      "outputs": [
        {
          "output_type": "display_data",
          "data": {
            "image/png": "[encoded data removed]",
            "text/plain": [
              "<Figure size 432x288 with 1 Axes>"
            ]
          },
          "metadata": {
            "tags": []
          }
        }
      ]
    },
    {
      "cell_type": "code",
      "metadata": {
        "id": "0SFicYuZffc3",
        "colab_type": "code",
        "outputId": "e362653b-c343-485c-d4a1-e1b53aa8d16c",
        "colab": {
          "base_uri": "https://localhost:8080/",
          "height": 170
        }
      },
      "source": [
        "err = y-x\n",
        "err.describe()"
      ],
      "execution_count": 9,
      "outputs": [
        {
          "output_type": "execute_result",
          "data": {
            "text/plain": [
              "count    15091.000000\n",
              "mean         0.025700\n",
              "std          2.191961\n",
              "min        -16.659808\n",
              "25%         -1.176861\n",
              "50%         -0.020850\n",
              "75%          1.166256\n",
              "max         24.798873\n",
              "Name: dist, dtype: float64"
            ]
          },
          "metadata": {
            "tags": []
          },
          "execution_count": 9
        }
      ]
    },
    {
      "cell_type": "code",
      "metadata": {
        "id": "uVCekFj_ffc5",
        "colab_type": "code",
        "colab": {}
      },
      "source": [
        "srterr = sorted(abs(err))"
      ],
      "execution_count": 0,
      "outputs": []
    },
    {
      "cell_type": "code",
      "metadata": {
        "id": "BKaGYcRTffc6",
        "colab_type": "code",
        "outputId": "529c5dce-c1e4-4143-96b0-271c191e17ed",
        "colab": {
          "base_uri": "https://localhost:8080/",
          "height": 34
        }
      },
      "source": [
        "srterr[13580]"
      ],
      "execution_count": 11,
      "outputs": [
        {
          "output_type": "execute_result",
          "data": {
            "text/plain": [
              "3.2127221694425643"
            ]
          },
          "metadata": {
            "tags": []
          },
          "execution_count": 11
        }
      ]
    },
    {
      "cell_type": "code",
      "metadata": {
        "id": "mTTmboFiffc8",
        "colab_type": "code",
        "colab": {
          "base_uri": "https://localhost:8080/",
          "height": 269
        },
        "outputId": "fd6021b2-083e-484b-f0ff-7becc54bfacf"
      },
      "source": [
        "_=plt.hist(srterr, bins=1000, cumulative=True, density=True)"
      ],
      "execution_count": 12,
      "outputs": [
        {
          "output_type": "display_data",
          "data": {
            "image/png": "[encoded data removed]",
            "text/plain": [
              "<Figure size 432x288 with 1 Axes>"
            ]
          },
          "metadata": {
            "tags": []
          }
        }
      ]
    }
  ]
}